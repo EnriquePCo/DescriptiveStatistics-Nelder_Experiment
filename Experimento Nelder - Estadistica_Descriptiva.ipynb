{
  "nbformat": 4,
  "nbformat_minor": 0,
  "metadata": {
    "colab": {
      "provenance": []
    },
    "kernelspec": {
      "name": "python3",
      "display_name": "Python 3"
    },
    "language_info": {
      "name": "python"
    }
  },
  "cells": [
    {
      "cell_type": "markdown",
      "source": [
        "# Estadistica descriptiva\n",
        "\n",
        "La Melina es una especie arborea ampliamente valorada en sector forestal debido a su rápido crecimiento y las cualidades de su madera. Es crucial tener en cuenta que la densidad de plantación, es una de las principales variables que influyen en el crecimiento y aprovechamiento de estas plantaciones, por lo que esta variable ha sido objeto de diversas investigaciones. Actualmente la densidad estándar utilizada por las empresas forestales es de 1111 árboles por hectárea, sin embargo, no siempre es la opción más adecuada para lograr un rendimiento óptimo incluso desde las primeras fases de la plantación, lo que puede conducir a una importante ineficiencia en la asignación de recursos. La densidad de plantación está directamente vinculada a los costos totales de una plantación, lo cual es un factor determinante al diseñar un plan para el establecimiento de una plantación comercial.\n",
        "\n",
        "Con este analisis nuestro objetivo es identificar patrones de crecimiento en estos especimenes a lo largo de los primeros meses. Para lograrlo, analizaremos cómo la densidad de plantación influye en la altura de los árboles a lo largo del tiempo. Este enfoque nos permitirá detectar tendencias y posibles relaciones entre la densidad y el crecimiento de estos especimenes.\n",
        "\n",
        "Teniendo esta base de datos trabajaremos sobre diferentes variables, pero la **numerica** y la mas importante es la Altura_Total que nos da la altura conseguida por los arboles en su respectivo mes y su respectivo tratamiento, siendo el tratamiento la principal variable **categorica** bajo la cual estaremos trabajando.\n",
        "\n",
        "La pregunta principal a ser contestada en esta actividad es:\n",
        "\n",
        "*   A dia de hoy, ¿Cual es el tratamiento(densidad), que mejor rendimientos ha dado en funcion del crecimiento?\n"
      ],
      "metadata": {
        "id": "ccECs35xZYk_"
      }
    },
    {
      "cell_type": "code",
      "execution_count": 1,
      "metadata": {
        "id": "4k2SqPuTQQXh"
      },
      "outputs": [],
      "source": [
        "import pandas as pd\n",
        "import numpy as np\n",
        "import matplotlib.pyplot as plt\n",
        "import seaborn as sns\n",
        "import warnings\n",
        "warnings.filterwarnings(\"ignore\")\n",
        "import scipy.stats as sp"
      ]
    },
    {
      "cell_type": "code",
      "source": [
        "nelder_11 = pd.read_excel('/content/drive/MyDrive/UDG/Proyecto - Tesis/BD_Melina_Mes_11.xlsx')\n",
        "nelder_11.head(3)"
      ],
      "metadata": {
        "colab": {
          "base_uri": "https://localhost:8080/",
          "height": 143
        },
        "id": "7w4QJs3OWwNd",
        "outputId": "4ec2dd0f-c35c-49ce-c177-587ee1c261a1"
      },
      "execution_count": 3,
      "outputs": [
        {
          "output_type": "execute_result",
          "data": {
            "text/plain": [
              "  Fecha de Medicion Arbol  DAP  Altura_Total Tratamiento  Fila  Densidad  \\\n",
              "0        2022-09-11    1a  0.5          30.5           a     1      7141   \n",
              "1        2022-09-11    1b  0.6          31.8           b     1      4877   \n",
              "2        2022-09-11    1c  0.5          28.1           c     1      3321   \n",
              "\n",
              "  Comentario  Medicion Med_cuali  Altura_Copa  Largo_NS  Largo_EO  \n",
              "0        NaN         1   Primera          0.0       0.0       0.0  \n",
              "1        NaN         1   Primera          0.0       0.0       0.0  \n",
              "2        NaN         1   Primera          0.0       0.0       0.0  "
            ],
            "text/html": [
              "\n",
              "  <div id=\"df-e942baec-21b5-48e9-a138-01e46d935216\" class=\"colab-df-container\">\n",
              "    <div>\n",
              "<style scoped>\n",
              "    .dataframe tbody tr th:only-of-type {\n",
              "        vertical-align: middle;\n",
              "    }\n",
              "\n",
              "    .dataframe tbody tr th {\n",
              "        vertical-align: top;\n",
              "    }\n",
              "\n",
              "    .dataframe thead th {\n",
              "        text-align: right;\n",
              "    }\n",
              "</style>\n",
              "<table border=\"1\" class=\"dataframe\">\n",
              "  <thead>\n",
              "    <tr style=\"text-align: right;\">\n",
              "      <th></th>\n",
              "      <th>Fecha de Medicion</th>\n",
              "      <th>Arbol</th>\n",
              "      <th>DAP</th>\n",
              "      <th>Altura_Total</th>\n",
              "      <th>Tratamiento</th>\n",
              "      <th>Fila</th>\n",
              "      <th>Densidad</th>\n",
              "      <th>Comentario</th>\n",
              "      <th>Medicion</th>\n",
              "      <th>Med_cuali</th>\n",
              "      <th>Altura_Copa</th>\n",
              "      <th>Largo_NS</th>\n",
              "      <th>Largo_EO</th>\n",
              "    </tr>\n",
              "  </thead>\n",
              "  <tbody>\n",
              "    <tr>\n",
              "      <th>0</th>\n",
              "      <td>2022-09-11</td>\n",
              "      <td>1a</td>\n",
              "      <td>0.5</td>\n",
              "      <td>30.5</td>\n",
              "      <td>a</td>\n",
              "      <td>1</td>\n",
              "      <td>7141</td>\n",
              "      <td>NaN</td>\n",
              "      <td>1</td>\n",
              "      <td>Primera</td>\n",
              "      <td>0.0</td>\n",
              "      <td>0.0</td>\n",
              "      <td>0.0</td>\n",
              "    </tr>\n",
              "    <tr>\n",
              "      <th>1</th>\n",
              "      <td>2022-09-11</td>\n",
              "      <td>1b</td>\n",
              "      <td>0.6</td>\n",
              "      <td>31.8</td>\n",
              "      <td>b</td>\n",
              "      <td>1</td>\n",
              "      <td>4877</td>\n",
              "      <td>NaN</td>\n",
              "      <td>1</td>\n",
              "      <td>Primera</td>\n",
              "      <td>0.0</td>\n",
              "      <td>0.0</td>\n",
              "      <td>0.0</td>\n",
              "    </tr>\n",
              "    <tr>\n",
              "      <th>2</th>\n",
              "      <td>2022-09-11</td>\n",
              "      <td>1c</td>\n",
              "      <td>0.5</td>\n",
              "      <td>28.1</td>\n",
              "      <td>c</td>\n",
              "      <td>1</td>\n",
              "      <td>3321</td>\n",
              "      <td>NaN</td>\n",
              "      <td>1</td>\n",
              "      <td>Primera</td>\n",
              "      <td>0.0</td>\n",
              "      <td>0.0</td>\n",
              "      <td>0.0</td>\n",
              "    </tr>\n",
              "  </tbody>\n",
              "</table>\n",
              "</div>\n",
              "    <div class=\"colab-df-buttons\">\n",
              "\n",
              "  <div class=\"colab-df-container\">\n",
              "    <button class=\"colab-df-convert\" onclick=\"convertToInteractive('df-e942baec-21b5-48e9-a138-01e46d935216')\"\n",
              "            title=\"Convert this dataframe to an interactive table.\"\n",
              "            style=\"display:none;\">\n",
              "\n",
              "  <svg xmlns=\"http://www.w3.org/2000/svg\" height=\"24px\" viewBox=\"0 -960 960 960\">\n",
              "    <path d=\"M120-120v-720h720v720H120Zm60-500h600v-160H180v160Zm220 220h160v-160H400v160Zm0 220h160v-160H400v160ZM180-400h160v-160H180v160Zm440 0h160v-160H620v160ZM180-180h160v-160H180v160Zm440 0h160v-160H620v160Z\"/>\n",
              "  </svg>\n",
              "    </button>\n",
              "\n",
              "  <style>\n",
              "    .colab-df-container {\n",
              "      display:flex;\n",
              "      gap: 12px;\n",
              "    }\n",
              "\n",
              "    .colab-df-convert {\n",
              "      background-color: #E8F0FE;\n",
              "      border: none;\n",
              "      border-radius: 50%;\n",
              "      cursor: pointer;\n",
              "      display: none;\n",
              "      fill: #1967D2;\n",
              "      height: 32px;\n",
              "      padding: 0 0 0 0;\n",
              "      width: 32px;\n",
              "    }\n",
              "\n",
              "    .colab-df-convert:hover {\n",
              "      background-color: #E2EBFA;\n",
              "      box-shadow: 0px 1px 2px rgba(60, 64, 67, 0.3), 0px 1px 3px 1px rgba(60, 64, 67, 0.15);\n",
              "      fill: #174EA6;\n",
              "    }\n",
              "\n",
              "    .colab-df-buttons div {\n",
              "      margin-bottom: 4px;\n",
              "    }\n",
              "\n",
              "    [theme=dark] .colab-df-convert {\n",
              "      background-color: #3B4455;\n",
              "      fill: #D2E3FC;\n",
              "    }\n",
              "\n",
              "    [theme=dark] .colab-df-convert:hover {\n",
              "      background-color: #434B5C;\n",
              "      box-shadow: 0px 1px 3px 1px rgba(0, 0, 0, 0.15);\n",
              "      filter: drop-shadow(0px 1px 2px rgba(0, 0, 0, 0.3));\n",
              "      fill: #FFFFFF;\n",
              "    }\n",
              "  </style>\n",
              "\n",
              "    <script>\n",
              "      const buttonEl =\n",
              "        document.querySelector('#df-e942baec-21b5-48e9-a138-01e46d935216 button.colab-df-convert');\n",
              "      buttonEl.style.display =\n",
              "        google.colab.kernel.accessAllowed ? 'block' : 'none';\n",
              "\n",
              "      async function convertToInteractive(key) {\n",
              "        const element = document.querySelector('#df-e942baec-21b5-48e9-a138-01e46d935216');\n",
              "        const dataTable =\n",
              "          await google.colab.kernel.invokeFunction('convertToInteractive',\n",
              "                                                    [key], {});\n",
              "        if (!dataTable) return;\n",
              "\n",
              "        const docLinkHtml = 'Like what you see? Visit the ' +\n",
              "          '<a target=\"_blank\" href=https://colab.research.google.com/notebooks/data_table.ipynb>data table notebook</a>'\n",
              "          + ' to learn more about interactive tables.';\n",
              "        element.innerHTML = '';\n",
              "        dataTable['output_type'] = 'display_data';\n",
              "        await google.colab.output.renderOutput(dataTable, element);\n",
              "        const docLink = document.createElement('div');\n",
              "        docLink.innerHTML = docLinkHtml;\n",
              "        element.appendChild(docLink);\n",
              "      }\n",
              "    </script>\n",
              "  </div>\n",
              "\n",
              "\n",
              "<div id=\"df-bea93edc-c2c0-43d6-a0de-5211526aaa97\">\n",
              "  <button class=\"colab-df-quickchart\" onclick=\"quickchart('df-bea93edc-c2c0-43d6-a0de-5211526aaa97')\"\n",
              "            title=\"Suggest charts.\"\n",
              "            style=\"display:none;\">\n",
              "\n",
              "<svg xmlns=\"http://www.w3.org/2000/svg\" height=\"24px\"viewBox=\"0 0 24 24\"\n",
              "     width=\"24px\">\n",
              "    <g>\n",
              "        <path d=\"M19 3H5c-1.1 0-2 .9-2 2v14c0 1.1.9 2 2 2h14c1.1 0 2-.9 2-2V5c0-1.1-.9-2-2-2zM9 17H7v-7h2v7zm4 0h-2V7h2v10zm4 0h-2v-4h2v4z\"/>\n",
              "    </g>\n",
              "</svg>\n",
              "  </button>\n",
              "\n",
              "<style>\n",
              "  .colab-df-quickchart {\n",
              "      --bg-color: #E8F0FE;\n",
              "      --fill-color: #1967D2;\n",
              "      --hover-bg-color: #E2EBFA;\n",
              "      --hover-fill-color: #174EA6;\n",
              "      --disabled-fill-color: #AAA;\n",
              "      --disabled-bg-color: #DDD;\n",
              "  }\n",
              "\n",
              "  [theme=dark] .colab-df-quickchart {\n",
              "      --bg-color: #3B4455;\n",
              "      --fill-color: #D2E3FC;\n",
              "      --hover-bg-color: #434B5C;\n",
              "      --hover-fill-color: #FFFFFF;\n",
              "      --disabled-bg-color: #3B4455;\n",
              "      --disabled-fill-color: #666;\n",
              "  }\n",
              "\n",
              "  .colab-df-quickchart {\n",
              "    background-color: var(--bg-color);\n",
              "    border: none;\n",
              "    border-radius: 50%;\n",
              "    cursor: pointer;\n",
              "    display: none;\n",
              "    fill: var(--fill-color);\n",
              "    height: 32px;\n",
              "    padding: 0;\n",
              "    width: 32px;\n",
              "  }\n",
              "\n",
              "  .colab-df-quickchart:hover {\n",
              "    background-color: var(--hover-bg-color);\n",
              "    box-shadow: 0 1px 2px rgba(60, 64, 67, 0.3), 0 1px 3px 1px rgba(60, 64, 67, 0.15);\n",
              "    fill: var(--button-hover-fill-color);\n",
              "  }\n",
              "\n",
              "  .colab-df-quickchart-complete:disabled,\n",
              "  .colab-df-quickchart-complete:disabled:hover {\n",
              "    background-color: var(--disabled-bg-color);\n",
              "    fill: var(--disabled-fill-color);\n",
              "    box-shadow: none;\n",
              "  }\n",
              "\n",
              "  .colab-df-spinner {\n",
              "    border: 2px solid var(--fill-color);\n",
              "    border-color: transparent;\n",
              "    border-bottom-color: var(--fill-color);\n",
              "    animation:\n",
              "      spin 1s steps(1) infinite;\n",
              "  }\n",
              "\n",
              "  @keyframes spin {\n",
              "    0% {\n",
              "      border-color: transparent;\n",
              "      border-bottom-color: var(--fill-color);\n",
              "      border-left-color: var(--fill-color);\n",
              "    }\n",
              "    20% {\n",
              "      border-color: transparent;\n",
              "      border-left-color: var(--fill-color);\n",
              "      border-top-color: var(--fill-color);\n",
              "    }\n",
              "    30% {\n",
              "      border-color: transparent;\n",
              "      border-left-color: var(--fill-color);\n",
              "      border-top-color: var(--fill-color);\n",
              "      border-right-color: var(--fill-color);\n",
              "    }\n",
              "    40% {\n",
              "      border-color: transparent;\n",
              "      border-right-color: var(--fill-color);\n",
              "      border-top-color: var(--fill-color);\n",
              "    }\n",
              "    60% {\n",
              "      border-color: transparent;\n",
              "      border-right-color: var(--fill-color);\n",
              "    }\n",
              "    80% {\n",
              "      border-color: transparent;\n",
              "      border-right-color: var(--fill-color);\n",
              "      border-bottom-color: var(--fill-color);\n",
              "    }\n",
              "    90% {\n",
              "      border-color: transparent;\n",
              "      border-bottom-color: var(--fill-color);\n",
              "    }\n",
              "  }\n",
              "</style>\n",
              "\n",
              "  <script>\n",
              "    async function quickchart(key) {\n",
              "      const quickchartButtonEl =\n",
              "        document.querySelector('#' + key + ' button');\n",
              "      quickchartButtonEl.disabled = true;  // To prevent multiple clicks.\n",
              "      quickchartButtonEl.classList.add('colab-df-spinner');\n",
              "      try {\n",
              "        const charts = await google.colab.kernel.invokeFunction(\n",
              "            'suggestCharts', [key], {});\n",
              "      } catch (error) {\n",
              "        console.error('Error during call to suggestCharts:', error);\n",
              "      }\n",
              "      quickchartButtonEl.classList.remove('colab-df-spinner');\n",
              "      quickchartButtonEl.classList.add('colab-df-quickchart-complete');\n",
              "    }\n",
              "    (() => {\n",
              "      let quickchartButtonEl =\n",
              "        document.querySelector('#df-bea93edc-c2c0-43d6-a0de-5211526aaa97 button');\n",
              "      quickchartButtonEl.style.display =\n",
              "        google.colab.kernel.accessAllowed ? 'block' : 'none';\n",
              "    })();\n",
              "  </script>\n",
              "</div>\n",
              "    </div>\n",
              "  </div>\n"
            ]
          },
          "metadata": {},
          "execution_count": 3
        }
      ]
    },
    {
      "cell_type": "code",
      "source": [
        "nelder_11 = nelder_11.drop(['Comentario', 'Med_cuali', 'Altura_Copa', 'Largo_NS', 'Largo_EO'], axis=1)\n",
        "nelder_11.head(3)"
      ],
      "metadata": {
        "colab": {
          "base_uri": "https://localhost:8080/",
          "height": 143
        },
        "id": "lj55SGqSXDN4",
        "outputId": "368f1d19-6474-4777-e98e-d913d18d7e5b"
      },
      "execution_count": 5,
      "outputs": [
        {
          "output_type": "execute_result",
          "data": {
            "text/plain": [
              "  Fecha de Medicion Arbol  DAP  Altura_Total Tratamiento  Fila  Densidad  \\\n",
              "0        2022-09-11    1a  0.5          30.5           a     1      7141   \n",
              "1        2022-09-11    1b  0.6          31.8           b     1      4877   \n",
              "2        2022-09-11    1c  0.5          28.1           c     1      3321   \n",
              "\n",
              "   Medicion  \n",
              "0         1  \n",
              "1         1  \n",
              "2         1  "
            ],
            "text/html": [
              "\n",
              "  <div id=\"df-c83772d8-a038-4fd2-b09f-0ac5ec18b1e2\" class=\"colab-df-container\">\n",
              "    <div>\n",
              "<style scoped>\n",
              "    .dataframe tbody tr th:only-of-type {\n",
              "        vertical-align: middle;\n",
              "    }\n",
              "\n",
              "    .dataframe tbody tr th {\n",
              "        vertical-align: top;\n",
              "    }\n",
              "\n",
              "    .dataframe thead th {\n",
              "        text-align: right;\n",
              "    }\n",
              "</style>\n",
              "<table border=\"1\" class=\"dataframe\">\n",
              "  <thead>\n",
              "    <tr style=\"text-align: right;\">\n",
              "      <th></th>\n",
              "      <th>Fecha de Medicion</th>\n",
              "      <th>Arbol</th>\n",
              "      <th>DAP</th>\n",
              "      <th>Altura_Total</th>\n",
              "      <th>Tratamiento</th>\n",
              "      <th>Fila</th>\n",
              "      <th>Densidad</th>\n",
              "      <th>Medicion</th>\n",
              "    </tr>\n",
              "  </thead>\n",
              "  <tbody>\n",
              "    <tr>\n",
              "      <th>0</th>\n",
              "      <td>2022-09-11</td>\n",
              "      <td>1a</td>\n",
              "      <td>0.5</td>\n",
              "      <td>30.5</td>\n",
              "      <td>a</td>\n",
              "      <td>1</td>\n",
              "      <td>7141</td>\n",
              "      <td>1</td>\n",
              "    </tr>\n",
              "    <tr>\n",
              "      <th>1</th>\n",
              "      <td>2022-09-11</td>\n",
              "      <td>1b</td>\n",
              "      <td>0.6</td>\n",
              "      <td>31.8</td>\n",
              "      <td>b</td>\n",
              "      <td>1</td>\n",
              "      <td>4877</td>\n",
              "      <td>1</td>\n",
              "    </tr>\n",
              "    <tr>\n",
              "      <th>2</th>\n",
              "      <td>2022-09-11</td>\n",
              "      <td>1c</td>\n",
              "      <td>0.5</td>\n",
              "      <td>28.1</td>\n",
              "      <td>c</td>\n",
              "      <td>1</td>\n",
              "      <td>3321</td>\n",
              "      <td>1</td>\n",
              "    </tr>\n",
              "  </tbody>\n",
              "</table>\n",
              "</div>\n",
              "    <div class=\"colab-df-buttons\">\n",
              "\n",
              "  <div class=\"colab-df-container\">\n",
              "    <button class=\"colab-df-convert\" onclick=\"convertToInteractive('df-c83772d8-a038-4fd2-b09f-0ac5ec18b1e2')\"\n",
              "            title=\"Convert this dataframe to an interactive table.\"\n",
              "            style=\"display:none;\">\n",
              "\n",
              "  <svg xmlns=\"http://www.w3.org/2000/svg\" height=\"24px\" viewBox=\"0 -960 960 960\">\n",
              "    <path d=\"M120-120v-720h720v720H120Zm60-500h600v-160H180v160Zm220 220h160v-160H400v160Zm0 220h160v-160H400v160ZM180-400h160v-160H180v160Zm440 0h160v-160H620v160ZM180-180h160v-160H180v160Zm440 0h160v-160H620v160Z\"/>\n",
              "  </svg>\n",
              "    </button>\n",
              "\n",
              "  <style>\n",
              "    .colab-df-container {\n",
              "      display:flex;\n",
              "      gap: 12px;\n",
              "    }\n",
              "\n",
              "    .colab-df-convert {\n",
              "      background-color: #E8F0FE;\n",
              "      border: none;\n",
              "      border-radius: 50%;\n",
              "      cursor: pointer;\n",
              "      display: none;\n",
              "      fill: #1967D2;\n",
              "      height: 32px;\n",
              "      padding: 0 0 0 0;\n",
              "      width: 32px;\n",
              "    }\n",
              "\n",
              "    .colab-df-convert:hover {\n",
              "      background-color: #E2EBFA;\n",
              "      box-shadow: 0px 1px 2px rgba(60, 64, 67, 0.3), 0px 1px 3px 1px rgba(60, 64, 67, 0.15);\n",
              "      fill: #174EA6;\n",
              "    }\n",
              "\n",
              "    .colab-df-buttons div {\n",
              "      margin-bottom: 4px;\n",
              "    }\n",
              "\n",
              "    [theme=dark] .colab-df-convert {\n",
              "      background-color: #3B4455;\n",
              "      fill: #D2E3FC;\n",
              "    }\n",
              "\n",
              "    [theme=dark] .colab-df-convert:hover {\n",
              "      background-color: #434B5C;\n",
              "      box-shadow: 0px 1px 3px 1px rgba(0, 0, 0, 0.15);\n",
              "      filter: drop-shadow(0px 1px 2px rgba(0, 0, 0, 0.3));\n",
              "      fill: #FFFFFF;\n",
              "    }\n",
              "  </style>\n",
              "\n",
              "    <script>\n",
              "      const buttonEl =\n",
              "        document.querySelector('#df-c83772d8-a038-4fd2-b09f-0ac5ec18b1e2 button.colab-df-convert');\n",
              "      buttonEl.style.display =\n",
              "        google.colab.kernel.accessAllowed ? 'block' : 'none';\n",
              "\n",
              "      async function convertToInteractive(key) {\n",
              "        const element = document.querySelector('#df-c83772d8-a038-4fd2-b09f-0ac5ec18b1e2');\n",
              "        const dataTable =\n",
              "          await google.colab.kernel.invokeFunction('convertToInteractive',\n",
              "                                                    [key], {});\n",
              "        if (!dataTable) return;\n",
              "\n",
              "        const docLinkHtml = 'Like what you see? Visit the ' +\n",
              "          '<a target=\"_blank\" href=https://colab.research.google.com/notebooks/data_table.ipynb>data table notebook</a>'\n",
              "          + ' to learn more about interactive tables.';\n",
              "        element.innerHTML = '';\n",
              "        dataTable['output_type'] = 'display_data';\n",
              "        await google.colab.output.renderOutput(dataTable, element);\n",
              "        const docLink = document.createElement('div');\n",
              "        docLink.innerHTML = docLinkHtml;\n",
              "        element.appendChild(docLink);\n",
              "      }\n",
              "    </script>\n",
              "  </div>\n",
              "\n",
              "\n",
              "<div id=\"df-f5075fba-4bee-49ba-9906-3beeb340a996\">\n",
              "  <button class=\"colab-df-quickchart\" onclick=\"quickchart('df-f5075fba-4bee-49ba-9906-3beeb340a996')\"\n",
              "            title=\"Suggest charts.\"\n",
              "            style=\"display:none;\">\n",
              "\n",
              "<svg xmlns=\"http://www.w3.org/2000/svg\" height=\"24px\"viewBox=\"0 0 24 24\"\n",
              "     width=\"24px\">\n",
              "    <g>\n",
              "        <path d=\"M19 3H5c-1.1 0-2 .9-2 2v14c0 1.1.9 2 2 2h14c1.1 0 2-.9 2-2V5c0-1.1-.9-2-2-2zM9 17H7v-7h2v7zm4 0h-2V7h2v10zm4 0h-2v-4h2v4z\"/>\n",
              "    </g>\n",
              "</svg>\n",
              "  </button>\n",
              "\n",
              "<style>\n",
              "  .colab-df-quickchart {\n",
              "      --bg-color: #E8F0FE;\n",
              "      --fill-color: #1967D2;\n",
              "      --hover-bg-color: #E2EBFA;\n",
              "      --hover-fill-color: #174EA6;\n",
              "      --disabled-fill-color: #AAA;\n",
              "      --disabled-bg-color: #DDD;\n",
              "  }\n",
              "\n",
              "  [theme=dark] .colab-df-quickchart {\n",
              "      --bg-color: #3B4455;\n",
              "      --fill-color: #D2E3FC;\n",
              "      --hover-bg-color: #434B5C;\n",
              "      --hover-fill-color: #FFFFFF;\n",
              "      --disabled-bg-color: #3B4455;\n",
              "      --disabled-fill-color: #666;\n",
              "  }\n",
              "\n",
              "  .colab-df-quickchart {\n",
              "    background-color: var(--bg-color);\n",
              "    border: none;\n",
              "    border-radius: 50%;\n",
              "    cursor: pointer;\n",
              "    display: none;\n",
              "    fill: var(--fill-color);\n",
              "    height: 32px;\n",
              "    padding: 0;\n",
              "    width: 32px;\n",
              "  }\n",
              "\n",
              "  .colab-df-quickchart:hover {\n",
              "    background-color: var(--hover-bg-color);\n",
              "    box-shadow: 0 1px 2px rgba(60, 64, 67, 0.3), 0 1px 3px 1px rgba(60, 64, 67, 0.15);\n",
              "    fill: var(--button-hover-fill-color);\n",
              "  }\n",
              "\n",
              "  .colab-df-quickchart-complete:disabled,\n",
              "  .colab-df-quickchart-complete:disabled:hover {\n",
              "    background-color: var(--disabled-bg-color);\n",
              "    fill: var(--disabled-fill-color);\n",
              "    box-shadow: none;\n",
              "  }\n",
              "\n",
              "  .colab-df-spinner {\n",
              "    border: 2px solid var(--fill-color);\n",
              "    border-color: transparent;\n",
              "    border-bottom-color: var(--fill-color);\n",
              "    animation:\n",
              "      spin 1s steps(1) infinite;\n",
              "  }\n",
              "\n",
              "  @keyframes spin {\n",
              "    0% {\n",
              "      border-color: transparent;\n",
              "      border-bottom-color: var(--fill-color);\n",
              "      border-left-color: var(--fill-color);\n",
              "    }\n",
              "    20% {\n",
              "      border-color: transparent;\n",
              "      border-left-color: var(--fill-color);\n",
              "      border-top-color: var(--fill-color);\n",
              "    }\n",
              "    30% {\n",
              "      border-color: transparent;\n",
              "      border-left-color: var(--fill-color);\n",
              "      border-top-color: var(--fill-color);\n",
              "      border-right-color: var(--fill-color);\n",
              "    }\n",
              "    40% {\n",
              "      border-color: transparent;\n",
              "      border-right-color: var(--fill-color);\n",
              "      border-top-color: var(--fill-color);\n",
              "    }\n",
              "    60% {\n",
              "      border-color: transparent;\n",
              "      border-right-color: var(--fill-color);\n",
              "    }\n",
              "    80% {\n",
              "      border-color: transparent;\n",
              "      border-right-color: var(--fill-color);\n",
              "      border-bottom-color: var(--fill-color);\n",
              "    }\n",
              "    90% {\n",
              "      border-color: transparent;\n",
              "      border-bottom-color: var(--fill-color);\n",
              "    }\n",
              "  }\n",
              "</style>\n",
              "\n",
              "  <script>\n",
              "    async function quickchart(key) {\n",
              "      const quickchartButtonEl =\n",
              "        document.querySelector('#' + key + ' button');\n",
              "      quickchartButtonEl.disabled = true;  // To prevent multiple clicks.\n",
              "      quickchartButtonEl.classList.add('colab-df-spinner');\n",
              "      try {\n",
              "        const charts = await google.colab.kernel.invokeFunction(\n",
              "            'suggestCharts', [key], {});\n",
              "      } catch (error) {\n",
              "        console.error('Error during call to suggestCharts:', error);\n",
              "      }\n",
              "      quickchartButtonEl.classList.remove('colab-df-spinner');\n",
              "      quickchartButtonEl.classList.add('colab-df-quickchart-complete');\n",
              "    }\n",
              "    (() => {\n",
              "      let quickchartButtonEl =\n",
              "        document.querySelector('#df-f5075fba-4bee-49ba-9906-3beeb340a996 button');\n",
              "      quickchartButtonEl.style.display =\n",
              "        google.colab.kernel.accessAllowed ? 'block' : 'none';\n",
              "    })();\n",
              "  </script>\n",
              "</div>\n",
              "    </div>\n",
              "  </div>\n"
            ]
          },
          "metadata": {},
          "execution_count": 5
        }
      ]
    },
    {
      "cell_type": "code",
      "source": [
        "nelder_11.shape"
      ],
      "metadata": {
        "colab": {
          "base_uri": "https://localhost:8080/"
        },
        "id": "3JyWkIwzlSDA",
        "outputId": "402350d2-8eba-4a17-ef58-a702f95471c8"
      },
      "execution_count": 4,
      "outputs": [
        {
          "output_type": "execute_result",
          "data": {
            "text/plain": [
              "(3564, 13)"
            ]
          },
          "metadata": {},
          "execution_count": 4
        }
      ]
    },
    {
      "cell_type": "code",
      "source": [
        "nelder_11 = nelder_11.loc[~(nelder_11 == 0).any(axis=1)]"
      ],
      "metadata": {
        "id": "vm-ROPuphPNZ"
      },
      "execution_count": 6,
      "outputs": []
    },
    {
      "cell_type": "code",
      "source": [
        "nelder_11.shape"
      ],
      "metadata": {
        "colab": {
          "base_uri": "https://localhost:8080/"
        },
        "id": "1rgEgO5nZGGs",
        "outputId": "a1a14d65-5c88-4d50-cd10-31cb213116b4"
      },
      "execution_count": 7,
      "outputs": [
        {
          "output_type": "execute_result",
          "data": {
            "text/plain": [
              "(3558, 8)"
            ]
          },
          "metadata": {},
          "execution_count": 7
        }
      ]
    },
    {
      "cell_type": "code",
      "source": [
        "nelder_11.dtypes"
      ],
      "metadata": {
        "colab": {
          "base_uri": "https://localhost:8080/"
        },
        "id": "roatNL5pZK5c",
        "outputId": "ad4f86a0-8593-4d26-ca60-e81d0a2eb227"
      },
      "execution_count": 8,
      "outputs": [
        {
          "output_type": "execute_result",
          "data": {
            "text/plain": [
              "Fecha de Medicion    datetime64[ns]\n",
              "Arbol                        object\n",
              "DAP                         float64\n",
              "Altura_Total                float64\n",
              "Tratamiento                  object\n",
              "Fila                          int64\n",
              "Densidad                      int64\n",
              "Medicion                      int64\n",
              "dtype: object"
            ]
          },
          "metadata": {},
          "execution_count": 8
        }
      ]
    },
    {
      "cell_type": "markdown",
      "source": [
        "Ahora mostrare un df en el cual relaciono los tratamientos con las densidades correspondientes de cada uno"
      ],
      "metadata": {
        "id": "yiAOlwsDwRis"
      }
    },
    {
      "cell_type": "code",
      "source": [
        "d = nelder_11['Densidad'].unique()\n",
        "t = nelder_11['Tratamiento'].unique()\n",
        "dt = pd.DataFrame({'Tratamientos': t, 'Densidades': d})\n",
        "dt = dt.set_index('Tratamientos')\n",
        "dt"
      ],
      "metadata": {
        "colab": {
          "base_uri": "https://localhost:8080/",
          "height": 363
        },
        "id": "R_O4KNiHuBT8",
        "outputId": "566a010e-c215-4159-d784-241c02d260d3"
      },
      "execution_count": 9,
      "outputs": [
        {
          "output_type": "execute_result",
          "data": {
            "text/plain": [
              "              Densidades\n",
              "Tratamientos            \n",
              "a                   7141\n",
              "b                   4877\n",
              "c                   3321\n",
              "d                   2265\n",
              "e                   1544\n",
              "f                   1052\n",
              "g                    716\n",
              "h                    489\n",
              "i                    333"
            ],
            "text/html": [
              "\n",
              "  <div id=\"df-f9ffd1da-6a6c-47aa-afe6-006d2fcae777\" class=\"colab-df-container\">\n",
              "    <div>\n",
              "<style scoped>\n",
              "    .dataframe tbody tr th:only-of-type {\n",
              "        vertical-align: middle;\n",
              "    }\n",
              "\n",
              "    .dataframe tbody tr th {\n",
              "        vertical-align: top;\n",
              "    }\n",
              "\n",
              "    .dataframe thead th {\n",
              "        text-align: right;\n",
              "    }\n",
              "</style>\n",
              "<table border=\"1\" class=\"dataframe\">\n",
              "  <thead>\n",
              "    <tr style=\"text-align: right;\">\n",
              "      <th></th>\n",
              "      <th>Densidades</th>\n",
              "    </tr>\n",
              "    <tr>\n",
              "      <th>Tratamientos</th>\n",
              "      <th></th>\n",
              "    </tr>\n",
              "  </thead>\n",
              "  <tbody>\n",
              "    <tr>\n",
              "      <th>a</th>\n",
              "      <td>7141</td>\n",
              "    </tr>\n",
              "    <tr>\n",
              "      <th>b</th>\n",
              "      <td>4877</td>\n",
              "    </tr>\n",
              "    <tr>\n",
              "      <th>c</th>\n",
              "      <td>3321</td>\n",
              "    </tr>\n",
              "    <tr>\n",
              "      <th>d</th>\n",
              "      <td>2265</td>\n",
              "    </tr>\n",
              "    <tr>\n",
              "      <th>e</th>\n",
              "      <td>1544</td>\n",
              "    </tr>\n",
              "    <tr>\n",
              "      <th>f</th>\n",
              "      <td>1052</td>\n",
              "    </tr>\n",
              "    <tr>\n",
              "      <th>g</th>\n",
              "      <td>716</td>\n",
              "    </tr>\n",
              "    <tr>\n",
              "      <th>h</th>\n",
              "      <td>489</td>\n",
              "    </tr>\n",
              "    <tr>\n",
              "      <th>i</th>\n",
              "      <td>333</td>\n",
              "    </tr>\n",
              "  </tbody>\n",
              "</table>\n",
              "</div>\n",
              "    <div class=\"colab-df-buttons\">\n",
              "\n",
              "  <div class=\"colab-df-container\">\n",
              "    <button class=\"colab-df-convert\" onclick=\"convertToInteractive('df-f9ffd1da-6a6c-47aa-afe6-006d2fcae777')\"\n",
              "            title=\"Convert this dataframe to an interactive table.\"\n",
              "            style=\"display:none;\">\n",
              "\n",
              "  <svg xmlns=\"http://www.w3.org/2000/svg\" height=\"24px\" viewBox=\"0 -960 960 960\">\n",
              "    <path d=\"M120-120v-720h720v720H120Zm60-500h600v-160H180v160Zm220 220h160v-160H400v160Zm0 220h160v-160H400v160ZM180-400h160v-160H180v160Zm440 0h160v-160H620v160ZM180-180h160v-160H180v160Zm440 0h160v-160H620v160Z\"/>\n",
              "  </svg>\n",
              "    </button>\n",
              "\n",
              "  <style>\n",
              "    .colab-df-container {\n",
              "      display:flex;\n",
              "      gap: 12px;\n",
              "    }\n",
              "\n",
              "    .colab-df-convert {\n",
              "      background-color: #E8F0FE;\n",
              "      border: none;\n",
              "      border-radius: 50%;\n",
              "      cursor: pointer;\n",
              "      display: none;\n",
              "      fill: #1967D2;\n",
              "      height: 32px;\n",
              "      padding: 0 0 0 0;\n",
              "      width: 32px;\n",
              "    }\n",
              "\n",
              "    .colab-df-convert:hover {\n",
              "      background-color: #E2EBFA;\n",
              "      box-shadow: 0px 1px 2px rgba(60, 64, 67, 0.3), 0px 1px 3px 1px rgba(60, 64, 67, 0.15);\n",
              "      fill: #174EA6;\n",
              "    }\n",
              "\n",
              "    .colab-df-buttons div {\n",
              "      margin-bottom: 4px;\n",
              "    }\n",
              "\n",
              "    [theme=dark] .colab-df-convert {\n",
              "      background-color: #3B4455;\n",
              "      fill: #D2E3FC;\n",
              "    }\n",
              "\n",
              "    [theme=dark] .colab-df-convert:hover {\n",
              "      background-color: #434B5C;\n",
              "      box-shadow: 0px 1px 3px 1px rgba(0, 0, 0, 0.15);\n",
              "      filter: drop-shadow(0px 1px 2px rgba(0, 0, 0, 0.3));\n",
              "      fill: #FFFFFF;\n",
              "    }\n",
              "  </style>\n",
              "\n",
              "    <script>\n",
              "      const buttonEl =\n",
              "        document.querySelector('#df-f9ffd1da-6a6c-47aa-afe6-006d2fcae777 button.colab-df-convert');\n",
              "      buttonEl.style.display =\n",
              "        google.colab.kernel.accessAllowed ? 'block' : 'none';\n",
              "\n",
              "      async function convertToInteractive(key) {\n",
              "        const element = document.querySelector('#df-f9ffd1da-6a6c-47aa-afe6-006d2fcae777');\n",
              "        const dataTable =\n",
              "          await google.colab.kernel.invokeFunction('convertToInteractive',\n",
              "                                                    [key], {});\n",
              "        if (!dataTable) return;\n",
              "\n",
              "        const docLinkHtml = 'Like what you see? Visit the ' +\n",
              "          '<a target=\"_blank\" href=https://colab.research.google.com/notebooks/data_table.ipynb>data table notebook</a>'\n",
              "          + ' to learn more about interactive tables.';\n",
              "        element.innerHTML = '';\n",
              "        dataTable['output_type'] = 'display_data';\n",
              "        await google.colab.output.renderOutput(dataTable, element);\n",
              "        const docLink = document.createElement('div');\n",
              "        docLink.innerHTML = docLinkHtml;\n",
              "        element.appendChild(docLink);\n",
              "      }\n",
              "    </script>\n",
              "  </div>\n",
              "\n",
              "\n",
              "<div id=\"df-b901ab21-f76b-413f-949e-8abd5a73f824\">\n",
              "  <button class=\"colab-df-quickchart\" onclick=\"quickchart('df-b901ab21-f76b-413f-949e-8abd5a73f824')\"\n",
              "            title=\"Suggest charts.\"\n",
              "            style=\"display:none;\">\n",
              "\n",
              "<svg xmlns=\"http://www.w3.org/2000/svg\" height=\"24px\"viewBox=\"0 0 24 24\"\n",
              "     width=\"24px\">\n",
              "    <g>\n",
              "        <path d=\"M19 3H5c-1.1 0-2 .9-2 2v14c0 1.1.9 2 2 2h14c1.1 0 2-.9 2-2V5c0-1.1-.9-2-2-2zM9 17H7v-7h2v7zm4 0h-2V7h2v10zm4 0h-2v-4h2v4z\"/>\n",
              "    </g>\n",
              "</svg>\n",
              "  </button>\n",
              "\n",
              "<style>\n",
              "  .colab-df-quickchart {\n",
              "      --bg-color: #E8F0FE;\n",
              "      --fill-color: #1967D2;\n",
              "      --hover-bg-color: #E2EBFA;\n",
              "      --hover-fill-color: #174EA6;\n",
              "      --disabled-fill-color: #AAA;\n",
              "      --disabled-bg-color: #DDD;\n",
              "  }\n",
              "\n",
              "  [theme=dark] .colab-df-quickchart {\n",
              "      --bg-color: #3B4455;\n",
              "      --fill-color: #D2E3FC;\n",
              "      --hover-bg-color: #434B5C;\n",
              "      --hover-fill-color: #FFFFFF;\n",
              "      --disabled-bg-color: #3B4455;\n",
              "      --disabled-fill-color: #666;\n",
              "  }\n",
              "\n",
              "  .colab-df-quickchart {\n",
              "    background-color: var(--bg-color);\n",
              "    border: none;\n",
              "    border-radius: 50%;\n",
              "    cursor: pointer;\n",
              "    display: none;\n",
              "    fill: var(--fill-color);\n",
              "    height: 32px;\n",
              "    padding: 0;\n",
              "    width: 32px;\n",
              "  }\n",
              "\n",
              "  .colab-df-quickchart:hover {\n",
              "    background-color: var(--hover-bg-color);\n",
              "    box-shadow: 0 1px 2px rgba(60, 64, 67, 0.3), 0 1px 3px 1px rgba(60, 64, 67, 0.15);\n",
              "    fill: var(--button-hover-fill-color);\n",
              "  }\n",
              "\n",
              "  .colab-df-quickchart-complete:disabled,\n",
              "  .colab-df-quickchart-complete:disabled:hover {\n",
              "    background-color: var(--disabled-bg-color);\n",
              "    fill: var(--disabled-fill-color);\n",
              "    box-shadow: none;\n",
              "  }\n",
              "\n",
              "  .colab-df-spinner {\n",
              "    border: 2px solid var(--fill-color);\n",
              "    border-color: transparent;\n",
              "    border-bottom-color: var(--fill-color);\n",
              "    animation:\n",
              "      spin 1s steps(1) infinite;\n",
              "  }\n",
              "\n",
              "  @keyframes spin {\n",
              "    0% {\n",
              "      border-color: transparent;\n",
              "      border-bottom-color: var(--fill-color);\n",
              "      border-left-color: var(--fill-color);\n",
              "    }\n",
              "    20% {\n",
              "      border-color: transparent;\n",
              "      border-left-color: var(--fill-color);\n",
              "      border-top-color: var(--fill-color);\n",
              "    }\n",
              "    30% {\n",
              "      border-color: transparent;\n",
              "      border-left-color: var(--fill-color);\n",
              "      border-top-color: var(--fill-color);\n",
              "      border-right-color: var(--fill-color);\n",
              "    }\n",
              "    40% {\n",
              "      border-color: transparent;\n",
              "      border-right-color: var(--fill-color);\n",
              "      border-top-color: var(--fill-color);\n",
              "    }\n",
              "    60% {\n",
              "      border-color: transparent;\n",
              "      border-right-color: var(--fill-color);\n",
              "    }\n",
              "    80% {\n",
              "      border-color: transparent;\n",
              "      border-right-color: var(--fill-color);\n",
              "      border-bottom-color: var(--fill-color);\n",
              "    }\n",
              "    90% {\n",
              "      border-color: transparent;\n",
              "      border-bottom-color: var(--fill-color);\n",
              "    }\n",
              "  }\n",
              "</style>\n",
              "\n",
              "  <script>\n",
              "    async function quickchart(key) {\n",
              "      const quickchartButtonEl =\n",
              "        document.querySelector('#' + key + ' button');\n",
              "      quickchartButtonEl.disabled = true;  // To prevent multiple clicks.\n",
              "      quickchartButtonEl.classList.add('colab-df-spinner');\n",
              "      try {\n",
              "        const charts = await google.colab.kernel.invokeFunction(\n",
              "            'suggestCharts', [key], {});\n",
              "      } catch (error) {\n",
              "        console.error('Error during call to suggestCharts:', error);\n",
              "      }\n",
              "      quickchartButtonEl.classList.remove('colab-df-spinner');\n",
              "      quickchartButtonEl.classList.add('colab-df-quickchart-complete');\n",
              "    }\n",
              "    (() => {\n",
              "      let quickchartButtonEl =\n",
              "        document.querySelector('#df-b901ab21-f76b-413f-949e-8abd5a73f824 button');\n",
              "      quickchartButtonEl.style.display =\n",
              "        google.colab.kernel.accessAllowed ? 'block' : 'none';\n",
              "    })();\n",
              "  </script>\n",
              "</div>\n",
              "    </div>\n",
              "  </div>\n"
            ]
          },
          "metadata": {},
          "execution_count": 9
        }
      ]
    },
    {
      "cell_type": "markdown",
      "source": [
        "Habiendo hecho este breve analisis exploratorio y ligera limpieza, ahora podemos sacar algunas medidas y graficas"
      ],
      "metadata": {
        "id": "c6ifwlNahH-H"
      }
    },
    {
      "cell_type": "code",
      "source": [
        "altura = nelder_11['Altura_Total']\n",
        "tratamiento = nelder_11['Tratamiento']\n",
        "sns.barplot(y= altura,x= tratamiento, palette='inferno')\n",
        "plt.ylabel('Altura media')\n",
        "plt.title('Comparacion historica de altura por tratamiento')"
      ],
      "metadata": {
        "colab": {
          "base_uri": "https://localhost:8080/",
          "height": 489
        },
        "id": "YCzIwtqBlcQe",
        "outputId": "bd42fd0a-5e21-4a02-d640-a13e3fb031c1"
      },
      "execution_count": 10,
      "outputs": [
        {
          "output_type": "execute_result",
          "data": {
            "text/plain": [
              "Text(0.5, 1.0, 'Comparacion historica de altura por tratamiento')"
            ]
          },
          "metadata": {},
          "execution_count": 10
        },
        {
          "output_type": "display_data",
          "data": {
            "text/plain": [
              "<Figure size 640x480 with 1 Axes>"
            ],
            "image/png": "[encoded data removed]"
          },
          "metadata": {}
        }
      ]
    },
    {
      "cell_type": "markdown",
      "source": [
        "Podemos notar una gran diferencia en promedio de altura historica de los arboles, contrastando diferentes Densidades (Tratamientos).\\\n",
        "\n",
        "\n",
        "---\n",
        "\n"
      ],
      "metadata": {
        "id": "i4mf2emurhBH"
      }
    },
    {
      "cell_type": "markdown",
      "source": [
        "## Medidas de tendencia central\n",
        "Seria convieniente agrupar los datos en funcion de la medicion a la que nos referimos para poder ver la tendencia de crecimiento a los largo de los meses de nuestros especimenes.\n",
        "Usaremos las medidas de tendencia central respectivas:\n",
        "1.   $\\text{Media}: \\bar{x} = \\frac{1}{n} \\sum_{i=1}^{n} x_i$\n",
        "2.   $\\text{Mediana} : P(X \\le m) = 0.5$\n",
        "3.   $\\text{Moda} : p(X = M) \\ge p(x = x_i) \\ \\forall \\ 1 \\le i \\le n$. Es el valor que más aparece.\n",
        "4.   $\\text{Percentiles} : P(X \\le x_p) = p$ , $p \\in [0,1]$"
      ],
      "metadata": {
        "id": "YtfJpPmfl4JM"
      }
    },
    {
      "cell_type": "code",
      "source": [
        "#sacamos media por numero de medicion mensual\n",
        "medias = nelder_11.groupby(['Medicion'])['Altura_Total'].mean()\n",
        "medias"
      ],
      "metadata": {
        "id": "vQAxUA0OwlW7",
        "colab": {
          "base_uri": "https://localhost:8080/"
        },
        "outputId": "2186d9e7-fa90-48b7-a8ce-a94a5bdb4e7f"
      },
      "execution_count": 11,
      "outputs": [
        {
          "output_type": "execute_result",
          "data": {
            "text/plain": [
              "Medicion\n",
              "1      26.747840\n",
              "2      40.732716\n",
              "3      81.229630\n",
              "4     124.463272\n",
              "5     153.771512\n",
              "6     170.458514\n",
              "7     193.041176\n",
              "8     209.743653\n",
              "9     223.297214\n",
              "10    231.532508\n",
              "11    258.817337\n",
              "Name: Altura_Total, dtype: float64"
            ]
          },
          "metadata": {},
          "execution_count": 11
        }
      ]
    },
    {
      "cell_type": "code",
      "source": [
        "#sacamos mediana por numero de medicion mensual\n",
        "medians = nelder_11.groupby(['Medicion'])['Altura_Total'].median()\n",
        "medians"
      ],
      "metadata": {
        "colab": {
          "base_uri": "https://localhost:8080/"
        },
        "id": "ln36YpBWbRNM",
        "outputId": "635cd7f5-2da0-43b4-f4c5-0dfeb2b2de52"
      },
      "execution_count": 12,
      "outputs": [
        {
          "output_type": "execute_result",
          "data": {
            "text/plain": [
              "Medicion\n",
              "1      26.50\n",
              "2      40.15\n",
              "3      80.50\n",
              "4     124.40\n",
              "5     154.65\n",
              "6     172.80\n",
              "7     194.90\n",
              "8     214.00\n",
              "9     227.00\n",
              "10    235.00\n",
              "11    264.00\n",
              "Name: Altura_Total, dtype: float64"
            ]
          },
          "metadata": {},
          "execution_count": 12
        }
      ]
    },
    {
      "cell_type": "code",
      "source": [
        "#sacamos moda por numero de medicion mensual\n",
        "modas = nelder_11.groupby(['Medicion'])['Altura_Total'].apply(lambda x: x.mode().iloc[0])\n",
        "modas"
      ],
      "metadata": {
        "colab": {
          "base_uri": "https://localhost:8080/"
        },
        "id": "3xFnqwPbiK5R",
        "outputId": "0fbccc7c-1fa5-42bb-8adc-98adaa4c536c"
      },
      "execution_count": 13,
      "outputs": [
        {
          "output_type": "execute_result",
          "data": {
            "text/plain": [
              "Medicion\n",
              "1      26.0\n",
              "2      40.1\n",
              "3      93.2\n",
              "4     105.0\n",
              "5     150.3\n",
              "6     153.0\n",
              "7     200.0\n",
              "8     200.0\n",
              "9     232.0\n",
              "10    234.0\n",
              "11    258.0\n",
              "Name: Altura_Total, dtype: float64"
            ]
          },
          "metadata": {},
          "execution_count": 13
        }
      ]
    },
    {
      "cell_type": "markdown",
      "source": [
        "Obvservando estos resultados podemos ver que los arboles han crecido alrededor de 230 cm a lo largo de los 11 meses que lleva el experimento. \\\n",
        "Si comparamos las 3 medidas de tendencia central, creo que es claro que la mas util en este caso seria el promedio, dado que es la mas precisa, y no hay outliers o datos atipicos que puedan llegar a estorbar a dicha medida, asi que usemosla para hacer una comparacion actual.\n"
      ],
      "metadata": {
        "id": "WkMt2OqgiytZ"
      }
    },
    {
      "cell_type": "code",
      "source": [
        "# filtramos los datos para solo contar con los actuales y usamos un groupby para contrastar\n",
        "media_dens = nelder_11[nelder_11['Medicion'] == 11].groupby('Tratamiento').mean()\n",
        "media_dens['Altura_Total']"
      ],
      "metadata": {
        "colab": {
          "base_uri": "https://localhost:8080/"
        },
        "id": "mNmuUF2MuB3c",
        "outputId": "53eaeb86-8536-4f25-aeff-bbb5e4740296"
      },
      "execution_count": 14,
      "outputs": [
        {
          "output_type": "execute_result",
          "data": {
            "text/plain": [
              "Tratamiento\n",
              "a    318.194444\n",
              "b    308.527778\n",
              "c    290.055556\n",
              "d    276.861111\n",
              "e    260.666667\n",
              "f    243.500000\n",
              "g    223.805556\n",
              "h    212.277778\n",
              "i    193.657143\n",
              "Name: Altura_Total, dtype: float64"
            ]
          },
          "metadata": {},
          "execution_count": 14
        }
      ]
    },
    {
      "cell_type": "code",
      "source": [
        "mean_a_d = media_dens['Altura_Total']\n",
        "sns.barplot(y = mean_a_d, x = nelder_11['Tratamiento'].unique(), palette='plasma')\n",
        "plt.title('Comparacion actual de tratamiento')"
      ],
      "metadata": {
        "colab": {
          "base_uri": "https://localhost:8080/",
          "height": 469
        },
        "id": "ROe9ajjzw2yf",
        "outputId": "ada86452-fe25-4cae-b670-d1996af3d84d"
      },
      "execution_count": 15,
      "outputs": [
        {
          "output_type": "execute_result",
          "data": {
            "text/plain": [
              "Text(0.5, 1.0, 'Comparacion actual de tratamiento')"
            ]
          },
          "metadata": {},
          "execution_count": 15
        },
        {
          "output_type": "display_data",
          "data": {
            "text/plain": [
              "<Figure size 640x480 with 1 Axes>"
            ],
            "image/png": "[encoded data removed]"
          },
          "metadata": {}
        }
      ]
    },
    {
      "cell_type": "markdown",
      "source": [
        "Despues de haber visto el patron de crecimiento de los arboles segun el tratamiento, podemos notar que los valores difieren de nuestro anterior grafico, ya que estos no cuentan con las medidas iniciales del experimento, si no que solo utiliza las medidas actuales de nuestros especimenes. \\\n",
        "A pesar de esto podemos darnos cuenta que el patron de crecimiento sigue ahi demostrando una gran ventaja los especimenes con una densidad mayor."
      ],
      "metadata": {
        "id": "3f0qNl_NygmO"
      }
    },
    {
      "cell_type": "code",
      "source": [
        "#Para los percentiles hagamos una serie de pandas para sacarlos\n",
        "t_a_11 = nelder_11[nelder_11['Medicion'] == 11]\n",
        "t_a_11 = t_a_11['Altura_Total']\n",
        "t_a_11 = t_a_11.reset_index()\n",
        "t_a_11 = t_a_11.drop('index', axis = 1)\n",
        "t_a_11"
      ],
      "metadata": {
        "colab": {
          "base_uri": "https://localhost:8080/",
          "height": 424
        },
        "id": "PfpYBznhydxF",
        "outputId": "4187620d-7f65-4c74-d8b0-c864886bde08"
      },
      "execution_count": 16,
      "outputs": [
        {
          "output_type": "execute_result",
          "data": {
            "text/plain": [
              "     Altura_Total\n",
              "0           365.0\n",
              "1           332.0\n",
              "2           285.0\n",
              "3           290.0\n",
              "4           235.0\n",
              "..            ...\n",
              "318         255.0\n",
              "319         289.0\n",
              "320         332.0\n",
              "321         358.0\n",
              "322         351.0\n",
              "\n",
              "[323 rows x 1 columns]"
            ],
            "text/html": [
              "\n",
              "  <div id=\"df-72e2918c-13b0-4898-b4d5-51a11b087ac8\" class=\"colab-df-container\">\n",
              "    <div>\n",
              "<style scoped>\n",
              "    .dataframe tbody tr th:only-of-type {\n",
              "        vertical-align: middle;\n",
              "    }\n",
              "\n",
              "    .dataframe tbody tr th {\n",
              "        vertical-align: top;\n",
              "    }\n",
              "\n",
              "    .dataframe thead th {\n",
              "        text-align: right;\n",
              "    }\n",
              "</style>\n",
              "<table border=\"1\" class=\"dataframe\">\n",
              "  <thead>\n",
              "    <tr style=\"text-align: right;\">\n",
              "      <th></th>\n",
              "      <th>Altura_Total</th>\n",
              "    </tr>\n",
              "  </thead>\n",
              "  <tbody>\n",
              "    <tr>\n",
              "      <th>0</th>\n",
              "      <td>365.0</td>\n",
              "    </tr>\n",
              "    <tr>\n",
              "      <th>1</th>\n",
              "      <td>332.0</td>\n",
              "    </tr>\n",
              "    <tr>\n",
              "      <th>2</th>\n",
              "      <td>285.0</td>\n",
              "    </tr>\n",
              "    <tr>\n",
              "      <th>3</th>\n",
              "      <td>290.0</td>\n",
              "    </tr>\n",
              "    <tr>\n",
              "      <th>4</th>\n",
              "      <td>235.0</td>\n",
              "    </tr>\n",
              "    <tr>\n",
              "      <th>...</th>\n",
              "      <td>...</td>\n",
              "    </tr>\n",
              "    <tr>\n",
              "      <th>318</th>\n",
              "      <td>255.0</td>\n",
              "    </tr>\n",
              "    <tr>\n",
              "      <th>319</th>\n",
              "      <td>289.0</td>\n",
              "    </tr>\n",
              "    <tr>\n",
              "      <th>320</th>\n",
              "      <td>332.0</td>\n",
              "    </tr>\n",
              "    <tr>\n",
              "      <th>321</th>\n",
              "      <td>358.0</td>\n",
              "    </tr>\n",
              "    <tr>\n",
              "      <th>322</th>\n",
              "      <td>351.0</td>\n",
              "    </tr>\n",
              "  </tbody>\n",
              "</table>\n",
              "<p>323 rows × 1 columns</p>\n",
              "</div>\n",
              "    <div class=\"colab-df-buttons\">\n",
              "\n",
              "  <div class=\"colab-df-container\">\n",
              "    <button class=\"colab-df-convert\" onclick=\"convertToInteractive('df-72e2918c-13b0-4898-b4d5-51a11b087ac8')\"\n",
              "            title=\"Convert this dataframe to an interactive table.\"\n",
              "            style=\"display:none;\">\n",
              "\n",
              "  <svg xmlns=\"http://www.w3.org/2000/svg\" height=\"24px\" viewBox=\"0 -960 960 960\">\n",
              "    <path d=\"M120-120v-720h720v720H120Zm60-500h600v-160H180v160Zm220 220h160v-160H400v160Zm0 220h160v-160H400v160ZM180-400h160v-160H180v160Zm440 0h160v-160H620v160ZM180-180h160v-160H180v160Zm440 0h160v-160H620v160Z\"/>\n",
              "  </svg>\n",
              "    </button>\n",
              "\n",
              "  <style>\n",
              "    .colab-df-container {\n",
              "      display:flex;\n",
              "      gap: 12px;\n",
              "    }\n",
              "\n",
              "    .colab-df-convert {\n",
              "      background-color: #E8F0FE;\n",
              "      border: none;\n",
              "      border-radius: 50%;\n",
              "      cursor: pointer;\n",
              "      display: none;\n",
              "      fill: #1967D2;\n",
              "      height: 32px;\n",
              "      padding: 0 0 0 0;\n",
              "      width: 32px;\n",
              "    }\n",
              "\n",
              "    .colab-df-convert:hover {\n",
              "      background-color: #E2EBFA;\n",
              "      box-shadow: 0px 1px 2px rgba(60, 64, 67, 0.3), 0px 1px 3px 1px rgba(60, 64, 67, 0.15);\n",
              "      fill: #174EA6;\n",
              "    }\n",
              "\n",
              "    .colab-df-buttons div {\n",
              "      margin-bottom: 4px;\n",
              "    }\n",
              "\n",
              "    [theme=dark] .colab-df-convert {\n",
              "      background-color: #3B4455;\n",
              "      fill: #D2E3FC;\n",
              "    }\n",
              "\n",
              "    [theme=dark] .colab-df-convert:hover {\n",
              "      background-color: #434B5C;\n",
              "      box-shadow: 0px 1px 3px 1px rgba(0, 0, 0, 0.15);\n",
              "      filter: drop-shadow(0px 1px 2px rgba(0, 0, 0, 0.3));\n",
              "      fill: #FFFFFF;\n",
              "    }\n",
              "  </style>\n",
              "\n",
              "    <script>\n",
              "      const buttonEl =\n",
              "        document.querySelector('#df-72e2918c-13b0-4898-b4d5-51a11b087ac8 button.colab-df-convert');\n",
              "      buttonEl.style.display =\n",
              "        google.colab.kernel.accessAllowed ? 'block' : 'none';\n",
              "\n",
              "      async function convertToInteractive(key) {\n",
              "        const element = document.querySelector('#df-72e2918c-13b0-4898-b4d5-51a11b087ac8');\n",
              "        const dataTable =\n",
              "          await google.colab.kernel.invokeFunction('convertToInteractive',\n",
              "                                                    [key], {});\n",
              "        if (!dataTable) return;\n",
              "\n",
              "        const docLinkHtml = 'Like what you see? Visit the ' +\n",
              "          '<a target=\"_blank\" href=https://colab.research.google.com/notebooks/data_table.ipynb>data table notebook</a>'\n",
              "          + ' to learn more about interactive tables.';\n",
              "        element.innerHTML = '';\n",
              "        dataTable['output_type'] = 'display_data';\n",
              "        await google.colab.output.renderOutput(dataTable, element);\n",
              "        const docLink = document.createElement('div');\n",
              "        docLink.innerHTML = docLinkHtml;\n",
              "        element.appendChild(docLink);\n",
              "      }\n",
              "    </script>\n",
              "  </div>\n",
              "\n",
              "\n",
              "<div id=\"df-f4c77d42-bb57-4adf-9c48-3331869cb934\">\n",
              "  <button class=\"colab-df-quickchart\" onclick=\"quickchart('df-f4c77d42-bb57-4adf-9c48-3331869cb934')\"\n",
              "            title=\"Suggest charts.\"\n",
              "            style=\"display:none;\">\n",
              "\n",
              "<svg xmlns=\"http://www.w3.org/2000/svg\" height=\"24px\"viewBox=\"0 0 24 24\"\n",
              "     width=\"24px\">\n",
              "    <g>\n",
              "        <path d=\"M19 3H5c-1.1 0-2 .9-2 2v14c0 1.1.9 2 2 2h14c1.1 0 2-.9 2-2V5c0-1.1-.9-2-2-2zM9 17H7v-7h2v7zm4 0h-2V7h2v10zm4 0h-2v-4h2v4z\"/>\n",
              "    </g>\n",
              "</svg>\n",
              "  </button>\n",
              "\n",
              "<style>\n",
              "  .colab-df-quickchart {\n",
              "      --bg-color: #E8F0FE;\n",
              "      --fill-color: #1967D2;\n",
              "      --hover-bg-color: #E2EBFA;\n",
              "      --hover-fill-color: #174EA6;\n",
              "      --disabled-fill-color: #AAA;\n",
              "      --disabled-bg-color: #DDD;\n",
              "  }\n",
              "\n",
              "  [theme=dark] .colab-df-quickchart {\n",
              "      --bg-color: #3B4455;\n",
              "      --fill-color: #D2E3FC;\n",
              "      --hover-bg-color: #434B5C;\n",
              "      --hover-fill-color: #FFFFFF;\n",
              "      --disabled-bg-color: #3B4455;\n",
              "      --disabled-fill-color: #666;\n",
              "  }\n",
              "\n",
              "  .colab-df-quickchart {\n",
              "    background-color: var(--bg-color);\n",
              "    border: none;\n",
              "    border-radius: 50%;\n",
              "    cursor: pointer;\n",
              "    display: none;\n",
              "    fill: var(--fill-color);\n",
              "    height: 32px;\n",
              "    padding: 0;\n",
              "    width: 32px;\n",
              "  }\n",
              "\n",
              "  .colab-df-quickchart:hover {\n",
              "    background-color: var(--hover-bg-color);\n",
              "    box-shadow: 0 1px 2px rgba(60, 64, 67, 0.3), 0 1px 3px 1px rgba(60, 64, 67, 0.15);\n",
              "    fill: var(--button-hover-fill-color);\n",
              "  }\n",
              "\n",
              "  .colab-df-quickchart-complete:disabled,\n",
              "  .colab-df-quickchart-complete:disabled:hover {\n",
              "    background-color: var(--disabled-bg-color);\n",
              "    fill: var(--disabled-fill-color);\n",
              "    box-shadow: none;\n",
              "  }\n",
              "\n",
              "  .colab-df-spinner {\n",
              "    border: 2px solid var(--fill-color);\n",
              "    border-color: transparent;\n",
              "    border-bottom-color: var(--fill-color);\n",
              "    animation:\n",
              "      spin 1s steps(1) infinite;\n",
              "  }\n",
              "\n",
              "  @keyframes spin {\n",
              "    0% {\n",
              "      border-color: transparent;\n",
              "      border-bottom-color: var(--fill-color);\n",
              "      border-left-color: var(--fill-color);\n",
              "    }\n",
              "    20% {\n",
              "      border-color: transparent;\n",
              "      border-left-color: var(--fill-color);\n",
              "      border-top-color: var(--fill-color);\n",
              "    }\n",
              "    30% {\n",
              "      border-color: transparent;\n",
              "      border-left-color: var(--fill-color);\n",
              "      border-top-color: var(--fill-color);\n",
              "      border-right-color: var(--fill-color);\n",
              "    }\n",
              "    40% {\n",
              "      border-color: transparent;\n",
              "      border-right-color: var(--fill-color);\n",
              "      border-top-color: var(--fill-color);\n",
              "    }\n",
              "    60% {\n",
              "      border-color: transparent;\n",
              "      border-right-color: var(--fill-color);\n",
              "    }\n",
              "    80% {\n",
              "      border-color: transparent;\n",
              "      border-right-color: var(--fill-color);\n",
              "      border-bottom-color: var(--fill-color);\n",
              "    }\n",
              "    90% {\n",
              "      border-color: transparent;\n",
              "      border-bottom-color: var(--fill-color);\n",
              "    }\n",
              "  }\n",
              "</style>\n",
              "\n",
              "  <script>\n",
              "    async function quickchart(key) {\n",
              "      const quickchartButtonEl =\n",
              "        document.querySelector('#' + key + ' button');\n",
              "      quickchartButtonEl.disabled = true;  // To prevent multiple clicks.\n",
              "      quickchartButtonEl.classList.add('colab-df-spinner');\n",
              "      try {\n",
              "        const charts = await google.colab.kernel.invokeFunction(\n",
              "            'suggestCharts', [key], {});\n",
              "      } catch (error) {\n",
              "        console.error('Error during call to suggestCharts:', error);\n",
              "      }\n",
              "      quickchartButtonEl.classList.remove('colab-df-spinner');\n",
              "      quickchartButtonEl.classList.add('colab-df-quickchart-complete');\n",
              "    }\n",
              "    (() => {\n",
              "      let quickchartButtonEl =\n",
              "        document.querySelector('#df-f4c77d42-bb57-4adf-9c48-3331869cb934 button');\n",
              "      quickchartButtonEl.style.display =\n",
              "        google.colab.kernel.accessAllowed ? 'block' : 'none';\n",
              "    })();\n",
              "  </script>\n",
              "</div>\n",
              "    </div>\n",
              "  </div>\n"
            ]
          },
          "metadata": {},
          "execution_count": 16
        }
      ]
    },
    {
      "cell_type": "code",
      "source": [
        "#ahora vayamos con los percentiles\n",
        "p_25 = np.quantile(t_a_11,0.25)\n",
        "p_50 = np.quantile(t_a_11,0.50)\n",
        "p_75 = np.quantile(t_a_11,0.75)\n",
        "print(f'Con las medidas actuales, nuestros percentiles son: \\n Percentil 25 = {p_25} \\n Percentil 50 = {p_50} \\n Percentil 75 = {p_75}')"
      ],
      "metadata": {
        "colab": {
          "base_uri": "https://localhost:8080/"
        },
        "id": "VzptXiGM3V7O",
        "outputId": "8b03616e-af6f-40db-b5b2-9b350f20aaa6"
      },
      "execution_count": 17,
      "outputs": [
        {
          "output_type": "stream",
          "name": "stdout",
          "text": [
            "Con las medidas actuales, nuestros percentiles son: \n",
            " Percentil 25 = 229.5 \n",
            " Percentil 50 = 264.0 \n",
            " Percentil 75 = 294.5\n"
          ]
        }
      ]
    },
    {
      "cell_type": "code",
      "source": [
        "#representemoslo de manera grafica\n",
        "sns.set_style('whitegrid')\n",
        "plt.figure(figsize=(3, 4))\n",
        "sns.boxplot(data = t_a_11, color = 'skyblue')\n",
        "plt.xlabel('')\n",
        "plt.gca().set_xticks([])\n",
        "plt.title('Altura total de especimenes mes 11')\n",
        "plt.show()"
      ],
      "metadata": {
        "colab": {
          "base_uri": "https://localhost:8080/",
          "height": 375
        },
        "id": "WM4n5ce-Cyyo",
        "outputId": "5f13def0-99c3-4eef-ec64-57b62e1fb885"
      },
      "execution_count": 18,
      "outputs": [
        {
          "output_type": "display_data",
          "data": {
            "text/plain": [
              "<Figure size 300x400 with 1 Axes>"
            ],
            "image/png": "[encoded data removed]"
          },
          "metadata": {}
        }
      ]
    },
    {
      "cell_type": "code",
      "source": [
        "#Ahora contrastemos la distribucion de las medidas de ese mes, en funcion de su tratamiento\n",
        "t_a_11_df = nelder_11[nelder_11['Medicion'] == 11]\n",
        "t_a_11_df = t_a_11_df[['Altura_Total','Tratamiento']]\n",
        "t_a_11_df = t_a_11_df[t_a_11_df['Altura_Total'] >= 50]\n",
        "sns.set_style(\"whitegrid\")\n",
        "sns.boxplot(data = t_a_11_df, y = t_a_11_df['Altura_Total'], x = t_a_11_df['Tratamiento'], palette='plasma')\n",
        "plt.title('Altura obtenida por tratamientos del mes 11')\n",
        "plt.ylabel('')\n",
        "plt.show()"
      ],
      "metadata": {
        "colab": {
          "base_uri": "https://localhost:8080/",
          "height": 472
        },
        "id": "PQLm-Jso8_lN",
        "outputId": "81dc4e74-92ca-4638-c3c4-035113d8974e"
      },
      "execution_count": 19,
      "outputs": [
        {
          "output_type": "display_data",
          "data": {
            "text/plain": [
              "<Figure size 640x480 with 1 Axes>"
            ],
            "image/png": "[encoded data removed]"
          },
          "metadata": {}
        }
      ]
    },
    {
      "cell_type": "markdown",
      "source": [
        "como podemos ver, cuando sacamos los cuartiles de las medidas en general del mes 11, este nos hacia ver que las medidas de dicho mes rondaban entre 150 y 350, pero si desglosamos todas esas medidas contrastandolas en funcion de sus medidas, vemos que, ademas de obtener una gran ventaja en altura a medida que aumenta la densidad, tambien podemos ver una notable mejora en la concentracion de las medidas, haciendo que los outliers o datos atipicos disminuyan, por lo que podemos deducir que mientras mas juntos estan los arboles en sus primeras etapas, estos tienden a tener un crecimiento mas **parejo**\n",
        "\n",
        "\n",
        "---\n",
        "\n"
      ],
      "metadata": {
        "id": "6rahaZxyI-m4"
      }
    },
    {
      "cell_type": "markdown",
      "source": [
        "## Medidas de dispersion\n",
        "\n",
        "Con las medidas de dispersion podremos ver que tanto se alejan nuestros datos de la medida de tendencia central, y en nuestro contexto podremos ver que tan variadas son nuestras medidas en el mes correspondiente segun el tratamiento.\n",
        "\n",
        "Para esto utilizaremos:\n",
        "\n",
        "\n",
        "*   $\\text{Varianza} :s^2 = \\frac{\\sum_{i=1}^n (x_i - \\bar{x})^2}{n-1}$\n",
        "\n",
        "*   $\\text{Desviacion estandar} :s = \\sqrt{s^2}$\n",
        "*   $\\text{Coeficiente de variación} :C_V = \\frac{s}{\\bar{x}} \\times 100$\n",
        "\n",
        "\n",
        "\n"
      ],
      "metadata": {
        "id": "Lmf2reNiMKrm"
      }
    },
    {
      "cell_type": "code",
      "source": [
        "#Empecemos con la varianza\n",
        "#tomemos los datos del mes 11 para sacarla\n",
        "var = np.var(t_a_11['Altura_Total'])\n",
        "print(f'La varianza de todas las medidas del mes 11 es: {round(var,4)}')"
      ],
      "metadata": {
        "colab": {
          "base_uri": "https://localhost:8080/"
        },
        "id": "CRX24ckzMHbk",
        "outputId": "50acfb54-764c-4412-cafe-d5a84bcfcdb5"
      },
      "execution_count": 20,
      "outputs": [
        {
          "output_type": "stream",
          "name": "stdout",
          "text": [
            "La varianza de todas las medidas del mes 11 es: 2824.979\n"
          ]
        }
      ]
    },
    {
      "cell_type": "code",
      "source": [
        "# ahora vayamos con la desviacion estandar o tipica\n",
        "std = np.std(t_a_11['Altura_Total'])\n",
        "print(f'La desviacion estandar de las medidas del mes 11 es: {round(std,4)}')"
      ],
      "metadata": {
        "colab": {
          "base_uri": "https://localhost:8080/"
        },
        "id": "odVifr_aasuJ",
        "outputId": "62d6b81e-4e27-4101-b446-7ca31ab2e76d"
      },
      "execution_count": 21,
      "outputs": [
        {
          "output_type": "stream",
          "name": "stdout",
          "text": [
            "La desviacion estandar de las medidas del mes 11 es: 53.1505\n"
          ]
        }
      ]
    },
    {
      "cell_type": "code",
      "source": [
        "# Finalmente vayamos con el coeficiente de variacion\n",
        "mean_11 = t_a_11['Altura_Total'].mean()\n",
        "CV = (std/mean_11)*100\n",
        "print(f'El coeficiente de variación es: {round(CV,2)}%')"
      ],
      "metadata": {
        "colab": {
          "base_uri": "https://localhost:8080/"
        },
        "id": "ZeZoM7P4bXmO",
        "outputId": "ac3f9b6c-2db6-4202-b9aa-6232a9193eff"
      },
      "execution_count": 22,
      "outputs": [
        {
          "output_type": "stream",
          "name": "stdout",
          "text": [
            "El coeficiente de variación es: 20.54%\n"
          ]
        }
      ]
    },
    {
      "cell_type": "markdown",
      "source": [
        "Ahora usemos la desviacion estandar y el coeficiente de variacion para comprobar la hipotesis planteada de: en cuando mayor es la densidad mas igualitario es el desarrollo de nuestros arboles.\n",
        "Para esto, usemos las graficas anteriores para obtener una pista de cual seria el mejor par de tratamientos para realizar este contraste.\n",
        "Evidentemente las que muestran mas diferencia en cuanto a dispersion de datos es el tratamiento a y el tratamiento i (el de mayor densidad y el de menor), asi que usemos estos con los datos del ultimo mes."
      ],
      "metadata": {
        "id": "EeFKh_rLcna8"
      }
    },
    {
      "cell_type": "code",
      "source": [
        "t_a_11_a = nelder_11[nelder_11['Tratamiento'] == 'a']\n",
        "t_a_11_a = t_a_11_a[nelder_11['Medicion'] == 11]\n",
        "t_a_11_a = t_a_11_a['Altura_Total']\n",
        "std_a = round(np.std(t_a_11_a),4)\n",
        "CV_a = round((std_a/t_a_11_a.mean())*100,2)\n",
        "print(f'La desviacion estandar del tratamiento \"a\" en el Mes 11 es: {std_a} \\npor otro lado, su coeficiente de variacion es de: {CV_a} %')"
      ],
      "metadata": {
        "colab": {
          "base_uri": "https://localhost:8080/"
        },
        "id": "l536IFk9cl0N",
        "outputId": "ad525f26-20f1-495f-f18a-c2c87b9c8b54"
      },
      "execution_count": 23,
      "outputs": [
        {
          "output_type": "stream",
          "name": "stdout",
          "text": [
            "La desviacion estandar del tratamiento \"a\" en el Mes 11 es: 26.5192 \n",
            "por otro lado, su coeficiente de variacion es de: 8.33 %\n"
          ]
        }
      ]
    },
    {
      "cell_type": "code",
      "source": [
        "t_a_11_i = nelder_11[nelder_11['Tratamiento'] == 'i']\n",
        "t_a_11_i = t_a_11_i[nelder_11['Medicion'] == 11]\n",
        "t_a_11_i = t_a_11_i['Altura_Total']\n",
        "std_i = round(np.std(t_a_11_i),4)\n",
        "CV_i = round((std_i/t_a_11_i.mean())*100,2)\n",
        "print(f'La desviacion estandar del tratamiento \"i\" en el Mes 11 es: {std_i} \\npor otro lado, su coeficiente de variacion es de: {CV_i} %')"
      ],
      "metadata": {
        "colab": {
          "base_uri": "https://localhost:8080/"
        },
        "id": "z-9s7fJYeV1p",
        "outputId": "ec9d5a98-0e6b-47d8-b4d6-875edc5675c4"
      },
      "execution_count": 24,
      "outputs": [
        {
          "output_type": "stream",
          "name": "stdout",
          "text": [
            "La desviacion estandar del tratamiento \"i\" en el Mes 11 es: 46.7864 \n",
            "por otro lado, su coeficiente de variacion es de: 24.16 %\n"
          ]
        }
      ]
    },
    {
      "cell_type": "markdown",
      "source": [
        "Como podemos notar, contrastando las medidas de dispersion de los dos tratamientos, vemos que el tratamiento con menor densidad (i) llega casi a doblar el valor de la desviacion estandar del tratamiento a, tambien cabe añadir que, de igual manera, el tratamiento i, llega a triplicar el valor de el coeficiente de variacion del tratamiento.\n",
        "habiendo obtenido estos datos podemos confirmar que la dispersion de las medidas se va reduciendo conforme aumentamos la densidad. En otras palabras, mientras mayor es el numero de arboles en un area determinada, mucho mas parejo sera el crecimiento de todos con el avance del tiempo, y tambien mucho mayor sera su crecimiento.\n",
        "\n",
        "---\n",
        "\n"
      ],
      "metadata": {
        "id": "tLPB9-09hwgM"
      }
    },
    {
      "cell_type": "markdown",
      "source": [
        "## Asimetría y Curtosis\n",
        "\n",
        "De igual manera, utilizaremos los datos del mes 11 para identificar estas propiedades."
      ],
      "metadata": {
        "id": "JyVb_7Gm5Pyj"
      }
    },
    {
      "cell_type": "code",
      "source": [
        "a = t_a_11['Altura_Total']\n",
        "sns.set_style('darkgrid')\n",
        "sns.histplot(a, color='lime')\n",
        "plt.xlabel('Altura Total')\n",
        "plt.ylabel('Frecuencia')"
      ],
      "metadata": {
        "colab": {
          "base_uri": "https://localhost:8080/",
          "height": 466
        },
        "id": "56XNO7oK6FsH",
        "outputId": "7c53bb57-dba3-445b-c9ac-787794c3a3bd"
      },
      "execution_count": 25,
      "outputs": [
        {
          "output_type": "execute_result",
          "data": {
            "text/plain": [
              "Text(0, 0.5, 'Frecuencia')"
            ]
          },
          "metadata": {},
          "execution_count": 25
        },
        {
          "output_type": "display_data",
          "data": {
            "text/plain": [
              "<Figure size 640x480 with 1 Axes>"
            ],
            "image/png": "[encoded data removed]"
          },
          "metadata": {}
        }
      ]
    },
    {
      "cell_type": "markdown",
      "source": [
        "Al graficar los datos en un histograma podemos notar que la dispersion de los datos tiene cierta forma gaussiana, pero es inevitable señalar la notable **asimetria negativa**, tambien es notable que la curtosis de la forma es **Leptocúrtica**.  \n",
        "\n",
        "Seria bueno usar funciones para automatizar estos diagnosticos:"
      ],
      "metadata": {
        "id": "qXktV7LABX0_"
      }
    },
    {
      "cell_type": "code",
      "source": [
        "# La asimetria de Fisher dicta que si el coeficiente es igual a 0, entonces la funcion es totalmente simetrica\n",
        "# si el coeficiente es mayor que 0, entonces es una asimetria positiva\n",
        "#por ultimo, si el coeficiente es menor que 0, tenemos una asimetria negativa\n",
        "\n",
        "def asimetria (s):\n",
        "    \"\"\"\n",
        "    Devuelve el diagnostico de asimetria del conjunto de datos\n",
        "    Args:\n",
        "        s:serie\n",
        "    Return:\n",
        "        Diagnostico\n",
        "    \"\"\"\n",
        "    x = round(sp.skew(s),2)\n",
        "    if x == 0:\n",
        "        return print(f'Tu conjunto de datos tiene una simetria perfecta')\n",
        "    elif x >= 0:\n",
        "        return print(f'Tu conjunto de datos tiene una asimetria positiva, y es de: {x}')\n",
        "    else:\n",
        "        return print(f'Tu conjunto de datos tiene una asimetria negativa y es de: {x}')"
      ],
      "metadata": {
        "id": "rZ-w35l5BXRw"
      },
      "execution_count": 26,
      "outputs": []
    },
    {
      "cell_type": "code",
      "source": [
        "asimetria(a)"
      ],
      "metadata": {
        "colab": {
          "base_uri": "https://localhost:8080/"
        },
        "id": "b6OBitY3F-VJ",
        "outputId": "52415397-c8fc-45a0-98f7-a786ef9c98ea"
      },
      "execution_count": 27,
      "outputs": [
        {
          "output_type": "stream",
          "name": "stdout",
          "text": [
            "Tu conjunto de datos tiene una asimetria negativa y es de: -0.52\n"
          ]
        }
      ]
    },
    {
      "cell_type": "code",
      "source": [
        "# si la curtosis es igual a 0 entonces seria Mesocúrtica\n",
        "# si la curtosis es mayor a 0 entonces seria Leptocúrtica\n",
        "# si la curtosis es menor que 0 entonces seria Platicúrtica\n",
        "\n",
        "def curtosis (s):\n",
        "    \"\"\"\n",
        "    Devuelve el diagnostico de curtosis del conjunto de datos\n",
        "    Args:\n",
        "        s:serie\n",
        "    Return:\n",
        "        Diagnostico\n",
        "    \"\"\"\n",
        "    x = round(sp.kurtosis(s),2)\n",
        "    if x == 0:\n",
        "        return print(f'Tu conjunto de datos tiene una Curtosis Mesocúrtica')\n",
        "    elif x >= 0:\n",
        "        return print(f'Tu conjunto de datos tiene una Curtosis Leptocúrtica, y es de: {x}')\n",
        "    else:\n",
        "        return print(f'Tu conjunto de datos tiene una Curtosis Platicúrtica y es de: {x}')"
      ],
      "metadata": {
        "id": "Du2b9ttUGDAD"
      },
      "execution_count": 28,
      "outputs": []
    },
    {
      "cell_type": "code",
      "source": [
        "curtosis(a)"
      ],
      "metadata": {
        "colab": {
          "base_uri": "https://localhost:8080/"
        },
        "id": "XFpbINJ1H4yj",
        "outputId": "c42e60ce-b537-47fa-8628-4caa082e243c"
      },
      "execution_count": 29,
      "outputs": [
        {
          "output_type": "stream",
          "name": "stdout",
          "text": [
            "Tu conjunto de datos tiene una Curtosis Leptocúrtica, y es de: 0.59\n"
          ]
        }
      ]
    },
    {
      "cell_type": "markdown",
      "source": [
        "Con esto comprobamos que las sospechas de Asimetria y Curtosis eran ciertas!.\n",
        "En el caso de la asimetria, podemos inferir que la mayor cantidad de las medidas actuales de la plantacion se concentran entre los 250 y 300, siendo pocos los registros de medida, que rondan entre los 100 y 200 centimetros, aunque aun hay registros mas abajo de eso que provocan la asimetria negativa, en la curtosis, podemos ver que debido a la gran concentracion de registros que hay alrededor de los 250-300 cm, tenemos unos picos bastante notables alrededor de las medidas de la mediana y esto termina provocando una Curtosis Leptocúrtica la cual es positiva."
      ],
      "metadata": {
        "id": "Mrgf89rMIZkH"
      }
    },
    {
      "cell_type": "markdown",
      "source": [
        "Asi que volviendo a la pregunta principal, tomando en cuenta los datos obtenidos, y los analisis que hemos hecho, podemos decir que el mejor tratamiento con el que se cuenta en el experimento hasta ahora, y el que mejor rendimientos ha dado es: el **Tratamiento i**."
      ],
      "metadata": {
        "id": "s5cLADb17N1p"
      }
    }
  ]
}